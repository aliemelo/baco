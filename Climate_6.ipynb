{
 "cells": [
  {
   "cell_type": "code",
   "execution_count": null,
   "metadata": {},
   "outputs": [],
   "source": [
    "import numpy as np\n",
    "import pandas as pd\n",
    "import matplotlib.pyplot as plt\n",
    "%matplotlib inline\n",
    "import plotly.offline as py\n",
    "py.init_notebook_mode(connected=True)\n",
    "import plotly.graph_objs as go\n",
    "import plotly.tools as tls\n",
    "import seaborn as sns\n",
    "import time\n",
    "import warnings\n",
    "warnings.filterwarnings('ignore')"
   ]
  },
  {
   "cell_type": "code",
   "execution_count": null,
   "metadata": {},
   "outputs": [],
   "source": [
    "df_6 = pd.read_csv('/home/santosrf/anaconda3/envs/DSP2019/climate-change-earth-surface-temperature-data/GlobalLandTemperaturesByCountry_6.csv')\n",
    "\n",
    "df_6"
   ]
  },
  {
   "cell_type": "code",
   "execution_count": null,
   "metadata": {},
   "outputs": [],
   "source": [
    "df_6_clear = df_6[~df_6['Country'].isin(\n",
    "    ['Denmark', 'Antarctica', 'France', 'Europe', 'Netherlands',\n",
    "     'United Kingdom', 'Africa', 'South America'])]\n",
    "\n",
    "df_6_clear = df_6_clear.replace(\n",
    "   ['Denmark (Europe)', 'France (Europe)', 'Netherlands (Europe)', 'United Kingdom (Europe)'],\n",
    "   ['Denmark', 'France', 'Netherlands', 'United Kingdom'])\n",
    "\n",
    "#Let's average temperature for each country\n",
    "\n",
    "countries = np.unique(df_6_clear['Country'])\n",
    "mean_temp = []\n",
    "for country in countries:\n",
    "    mean_temp.append(df_6_clear[df_6_clear['Country'] == \n",
    "                                               country]['AverageTemperature'].mean())\n",
    "\n",
    "mean_temp_bar, countries_bar = (list(x) for x in zip(*sorted(zip(mean_temp, countries), \n",
    "                                                             reverse = True)))\n",
    "sns.set(font_scale=1) \n",
    "f, ax = plt.subplots(figsize=(10, 10))\n",
    "colors_cw = sns.color_palette('coolwarm', len(countries))\n",
    "sns.barplot(mean_temp_bar, countries_bar, palette = colors_cw[::-1])\n",
    "Text = ax.set(xlabel='Average temperature', title='Average land temperature in countries')    \n"
   ]
  },
  {
   "cell_type": "code",
   "execution_count": null,
   "metadata": {},
   "outputs": [],
   "source": [
    "max_min_list = []\n",
    "\n",
    "# getting max and min temps\n",
    "for country in countries:\n",
    "    curr_temps = df_6[df_6['Country'] == country]['AverageTemperature']\n",
    "    max_min_list.append((curr_temps.max(), curr_temps.min()))\n",
    "    \n",
    "# cleaning data\n",
    "res_max_min_list = []\n",
    "res_countries = []\n",
    "\n",
    "for i in range(len(max_min_list)):\n",
    "    if not np.isnan(max_min_list[i][0]):\n",
    "        res_max_min_list.append(max_min_list[i])\n",
    "        res_countries.append(countries[i])\n",
    "\n",
    "# calculating differences        \n",
    "differences = []\n",
    "\n",
    "for tpl in res_max_min_list:\n",
    "    differences.append(tpl[0] - tpl[1])\n",
    "    \n",
    "# sorting\n",
    "differences, res_countries = (list(x) for x in zip(*sorted(zip(differences, res_countries), key=lambda pair: pair[0], reverse=True)))\n",
    "\n",
    "# ploting\n",
    "f, ax = plt.subplots(figsize=(10, 10))\n",
    "sns.barplot(x=differences[:], y=res_countries[:], palette=sns.color_palette(\"coolwarm\", 25), ax=ax)\n",
    "\n",
    "texts = ax.set(ylabel=\"\", xlabel=\"Temperature difference\", title=\"Countries with the highest temperature differences\")"
   ]
  }
 ],
 "metadata": {
  "kernelspec": {
   "display_name": "Python 3",
   "language": "python",
   "name": "python3"
  },
  "language_info": {
   "codemirror_mode": {
    "name": "ipython",
    "version": 3
   },
   "file_extension": ".py",
   "mimetype": "text/x-python",
   "name": "python",
   "nbconvert_exporter": "python",
   "pygments_lexer": "ipython3",
   "version": "3.6.5"
  }
 },
 "nbformat": 4,
 "nbformat_minor": 2
}
