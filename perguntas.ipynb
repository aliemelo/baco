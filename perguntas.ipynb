{
 "cells": [
  {
   "cell_type": "markdown",
   "metadata": {},
   "source": [
    "## Possíveis perguntas\n",
    "\n",
    "1. o preço da garrafa interfere na nota?\n",
    "2. relação da nota com a vinícola\n",
    "3. o gênero do avaliador interfere na preferência por algum tipo de vinho?\n",
    "4. relação do tipo da uva com a descrição\n",
    "5. dentro da mesma variedade de uva: há diferença?\n",
    "6. safra ???\n",
    "7. existe perfil climático para determinado tipo de vinho?\n",
    "8. preço tem relação com a vinícola?\n",
    "9. conferir se algum desses vinhos foi premiado\n",
    "10. analisar dentro das vinícolas\n",
    "11. safras mais antigas são melhores? (ano da safra está na coluna \"title; usar regex para pegar essa informacao)"
   ]
  },
  {
   "cell_type": "markdown",
   "metadata": {},
   "source": [
    "# Exploração dos dados\n",
    "\n",
    "Existem dados faltando\n",
    "\n",
    "Existem dados duplicados\n",
    "\n",
    "Dentro de uma mesma vinícolas, temos:<br>\n",
    "- parreirais diferentes <br>\n",
    "- regiões diferentes<br>\n",
    "- avaliadores diferentes<br>\n",
    "- variedades de uva diferentes<br>\n",
    "\n",
    "\n",
    "Tem linha com coluna deslocada --> aparentemente, o erro é só quando abre no excel; o arquivo original tem a linha completa"
   ]
  },
  {
   "cell_type": "markdown",
   "metadata": {},
   "source": [
    "# Classificação do Wine Enthusiast\n",
    "\n",
    "98–100 Classic The pinnacle of quality. \n",
    "\n",
    "94–97 Superb A great achievement. \n",
    "\n",
    "90–93 Excellent Highly recommended. \n",
    "\n",
    "87–89 Very Good Often good value; well recommended. \n",
    "\n",
    "83–86 Good Suitable for everyday consumption; often good value. \n",
    "\n",
    "80–82 Acceptable Can be employed in casual, less-critical circumstances. \n"
   ]
  },
  {
   "cell_type": "code",
   "execution_count": 7,
   "metadata": {
    "scrolled": true
   },
   "outputs": [
    {
     "data": {
      "text/html": [
       "<div>\n",
       "<style scoped>\n",
       "    .dataframe tbody tr th:only-of-type {\n",
       "        vertical-align: middle;\n",
       "    }\n",
       "\n",
       "    .dataframe tbody tr th {\n",
       "        vertical-align: top;\n",
       "    }\n",
       "\n",
       "    .dataframe thead th {\n",
       "        text-align: right;\n",
       "    }\n",
       "</style>\n",
       "<table border=\"1\" class=\"dataframe\">\n",
       "  <thead>\n",
       "    <tr style=\"text-align: right;\">\n",
       "      <th></th>\n",
       "      <th>country</th>\n",
       "      <th>description</th>\n",
       "      <th>designation</th>\n",
       "      <th>points</th>\n",
       "      <th>price</th>\n",
       "      <th>province</th>\n",
       "      <th>region_1</th>\n",
       "      <th>region_2</th>\n",
       "      <th>taster_name</th>\n",
       "      <th>taster_twitter_handle</th>\n",
       "      <th>title</th>\n",
       "      <th>variety</th>\n",
       "      <th>winery</th>\n",
       "    </tr>\n",
       "  </thead>\n",
       "  <tbody>\n",
       "    <tr>\n",
       "      <th>48899</th>\n",
       "      <td>France</td>\n",
       "      <td>A supremely integrated wine, its richness and ...</td>\n",
       "      <td>NaN</td>\n",
       "      <td>97</td>\n",
       "      <td>95.0</td>\n",
       "      <td>Burgundy</td>\n",
       "      <td>Corton-Pougets</td>\n",
       "      <td>NaN</td>\n",
       "      <td>Roger Voss</td>\n",
       "      <td>@vossroger</td>\n",
       "      <td>Louis Jadot 2005  Corton-Pougets</td>\n",
       "      <td>Pinot Noir</td>\n",
       "      <td>Louis Jadot</td>\n",
       "    </tr>\n",
       "  </tbody>\n",
       "</table>\n",
       "</div>"
      ],
      "text/plain": [
       "      country                                        description designation  \\\n",
       "48899  France  A supremely integrated wine, its richness and ...         NaN   \n",
       "\n",
       "       points  price  province        region_1 region_2 taster_name  \\\n",
       "48899      97   95.0  Burgundy  Corton-Pougets      NaN  Roger Voss   \n",
       "\n",
       "      taster_twitter_handle                             title     variety  \\\n",
       "48899            @vossroger  Louis Jadot 2005  Corton-Pougets  Pinot Noir   \n",
       "\n",
       "            winery  \n",
       "48899  Louis Jadot  "
      ]
     },
     "metadata": {},
     "output_type": "display_data"
    },
    {
     "name": "stdout",
     "output_type": "stream",
     "text": [
      "129971\n"
     ]
    }
   ],
   "source": [
    "import pandas as pd\n",
    "\n",
    "df = pd.read_csv(\"wine-reviews/winemag-data-130k-v2.csv\", index_col=0)\n",
    "\n",
    "\n",
    "display(df.loc[[48899]])\n",
    "print(len(df.index))"
   ]
  }
 ],
 "metadata": {
  "kernelspec": {
   "display_name": "Python 3",
   "language": "python",
   "name": "python3"
  },
  "language_info": {
   "codemirror_mode": {
    "name": "ipython",
    "version": 3
   },
   "file_extension": ".py",
   "mimetype": "text/x-python",
   "name": "python",
   "nbconvert_exporter": "python",
   "pygments_lexer": "ipython3",
   "version": "3.6.2"
  }
 },
 "nbformat": 4,
 "nbformat_minor": 2
}
