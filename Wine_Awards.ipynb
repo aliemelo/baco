{
 "cells": [
  {
   "cell_type": "code",
   "execution_count": null,
   "metadata": {},
   "outputs": [],
   "source": [
    "from urllib.request import urlopen\n",
    "from bs4 import BeautifulSoup\n",
    "import pandas as pd"
   ]
  },
  {
   "cell_type": "code",
   "execution_count": null,
   "metadata": {},
   "outputs": [],
   "source": [
    "# Year we'll be analyzing (from 2009 to 2019)\n",
    "year = 2016\n",
    "\n",
    "# URL page we'll be scraping - IWC Awards\n",
    "url = \"https://www.internationalwinechallenge.com/trophy-results-{}.html\".format(year)\n",
    "\n",
    "# HTML from the given URL\n",
    "html = urlopen(url)\n",
    "\n",
    "soup = BeautifulSoup(html, \"lxml\")"
   ]
  },
  {
   "cell_type": "code",
   "execution_count": null,
   "metadata": {},
   "outputs": [],
   "source": [
    "tables = soup.findAll('table')\n",
    "\n",
    "print(\"type:\", type(tables), \"len:\", len(tables))\n",
    "\n",
    "tables[0]"
   ]
  },
  {
   "cell_type": "code",
   "execution_count": null,
   "metadata": {},
   "outputs": [],
   "source": [
    "# tr = soup.findAll('tr')\n",
    "\n",
    "# headers = [td.getText() for td in tables[0].findAll('td')]\n",
    "\n",
    "# headers = headers[0]\n",
    "# headers"
   ]
  },
  {
   "cell_type": "code",
   "execution_count": null,
   "metadata": {},
   "outputs": [],
   "source": [
    "tr = soup.findAll('tr')\n",
    "\n",
    "headers = [td.getText() for td in tables[0].findAll('span')]\n",
    "\n",
    "headers = headers[1:]\n",
    "headers"
   ]
  },
  {
   "cell_type": "code",
   "execution_count": null,
   "metadata": {},
   "outputs": [],
   "source": [
    "rows = soup.findAll('tr')[1:]\n",
    "\n",
    "awards= [[td.getText() for td in rows[i].findAll('td')]\n",
    "        for i in range(len(rows))]\n",
    "\n",
    "awards"
   ]
  },
  {
   "cell_type": "code",
   "execution_count": null,
   "metadata": {},
   "outputs": [],
   "source": [
    "df_awards = pd.DataFrame(awards)\n",
    "\n",
    "df_awards"
   ]
  }
 ],
 "metadata": {
  "kernelspec": {
   "display_name": "Python 3",
   "language": "python",
   "name": "python3"
  },
  "language_info": {
   "codemirror_mode": {
    "name": "ipython",
    "version": 3
   },
   "file_extension": ".py",
   "mimetype": "text/x-python",
   "name": "python",
   "nbconvert_exporter": "python",
   "pygments_lexer": "ipython3",
   "version": "3.6.5"
  }
 },
 "nbformat": 4,
 "nbformat_minor": 2
}
